{
 "cells": [
  {
   "cell_type": "code",
   "execution_count": 3,
   "metadata": {},
   "outputs": [],
   "source": [
    "import mlflow\n",
    "import mlflow.sklearn\n",
    "from sklearn.ensemble import RandomForestRegressor\n",
    "from sklearn.metrics import mean_squared_error\n",
    "from sklearn.model_selection import train_test_split\n",
    "from sklearn import datasets"
   ]
  },
  {
   "cell_type": "code",
   "execution_count": 4,
   "metadata": {},
   "outputs": [
    {
     "name": "stderr",
     "output_type": "stream",
     "text": [
      "2024/01/11 15:04:35 INFO mlflow.tracking.fluent: Experiment with name 'my_classification_model' does not exist. Creating a new experiment.\n"
     ]
    },
    {
     "data": {
      "text/plain": [
       "<Experiment: artifact_location='file:///Users/gopikrishnansasikumar/projects/mlflow-test/mlruns/545391055719976846', creation_time=1704965675517, experiment_id='545391055719976846', last_update_time=1704965675517, lifecycle_stage='active', name='my_classification_model', tags={}>"
      ]
     },
     "execution_count": 4,
     "metadata": {},
     "output_type": "execute_result"
    }
   ],
   "source": [
    "mlflow.set_experiment(\"my_classification_model\")"
   ]
  },
  {
   "cell_type": "code",
   "execution_count": 5,
   "metadata": {},
   "outputs": [
    {
     "name": "stdout",
     "output_type": "stream",
     "text": [
      "MSE:  0.0010181240740740735\n",
      "artifacts_uri: file:///Users/gopikrishnansasikumar/projects/mlflow-test/mlruns/545391055719976846/3ba42d78882542ceb1512ff9b1923f69/artifacts\n",
      "run_id: cecfdfa6977441d0b6ebc4818c1503a9\n",
      "experiment_id: 545391055719976846\n"
     ]
    }
   ],
   "source": [
    "iris = datasets.load_iris()\n",
    "x = iris.data[:,2:]\n",
    "y = iris.target\n",
    "X_train, X_test, y_train, y_test = train_test_split(x, y, test_size=0.3, random_state=42)\n",
    "\n",
    "with mlflow.start_run(run_name='My Model Experiment') as run:\n",
    "\n",
    "    num_estimators = 100\n",
    "    mlflow.log_param(\"num_estimators\", num_estimators)\n",
    "    rf = RandomForestRegressor(n_estimators=num_estimators, random_state=42)\n",
    "    rf.fit(X_train, y_train)\n",
    "    predictions = rf.predict(X_test)\n",
    "\n",
    "    mlflow.sklearn.log_model(rf, \"random-forest-model\")\n",
    "\n",
    "    mse = mean_squared_error(y_test, predictions)\n",
    "\n",
    "    mlflow.log_metric(\"mse\", mse)\n",
    "    print(\"MSE: \", mse)\n",
    "\n",
    "    run_id = run.info.run_uuid\n",
    "    experiment_id = run.info.experiment_id\n",
    "    mlflow.end_run()\n",
    "    print(\"artifacts_uri: {}\".format(mlflow.get_artifact_uri()))\n",
    "    print(\"run_id: {}\".format(run_id))\n",
    "    print(\"experiment_id: {}\".format(experiment_id))\n"
   ]
  }
 ],
 "metadata": {
  "kernelspec": {
   "display_name": "llm",
   "language": "python",
   "name": "python3"
  },
  "language_info": {
   "codemirror_mode": {
    "name": "ipython",
    "version": 3
   },
   "file_extension": ".py",
   "mimetype": "text/x-python",
   "name": "python",
   "nbconvert_exporter": "python",
   "pygments_lexer": "ipython3",
   "version": "3.10.13"
  }
 },
 "nbformat": 4,
 "nbformat_minor": 2
}
